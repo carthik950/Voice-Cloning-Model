{
 "cells": [
  {
   "cell_type": "code",
   "execution_count": null,
   "id": "6ddd78cf-49b1-4867-bdd3-5dd4ab6a4bf2",
   "metadata": {},
   "outputs": [],
   "source": [
    "import torch\n",
    "import torchaudio\n",
    "from scipy.io.wavfile import write\n",
    "from tacotron2.text import text_to_sequence\n",
    "\n",
    "# Load Tacotron 2 model on GPU\n",
    "tacotron2 = torch.hub.load('nvidia/DeepLearningExamples:torchhub', 'nvidia_tacotron2').cuda()\n",
    "\n",
    "# Load WaveGlow model on GPU\n",
    "waveglow = torch.hub.load('nvidia/DeepLearningExamples:torchhub', 'nvidia_waveglow').cuda()\n",
    "\n",
    "# Set device to use\n",
    "device = torch.device('cuda' if torch.cuda.is_available() else 'cpu')\n",
    "tacotron2 = tacotron2.to(device)\n",
    "waveglow = waveglow.to(device)\n",
    "\n",
    "# Text input\n",
    "text = \"I am working on a task given by openinapp\"\n",
    "\n",
    "# Set cleaner names\n",
    "cleaner_names = ['english_cleaners']\n",
    "\n",
    "# Convert text to sequence\n",
    "sequence = text_to_sequence(text, cleaner_names)\n",
    "\n",
    "# Convert text to mel spectrogram\n",
    "sequence = torch.tensor(sequence, dtype=torch.long, device=device).unsqueeze(0)\n",
    "input_lengths = torch.tensor([sequence.size(1)], device=device)\n",
    "mel_outputs, mel_lengths, _ = tacotron2.infer(sequence, input_lengths=input_lengths)\n",
    "\n",
    "# combine waveform using WaveGlow\n",
    "with torch.no_grad():\n",
    "    audio = waveglow.infer(mel_outputs)\n",
    "\n",
    "# Normalize the audio waveform\n",
    "audio = audio.squeeze().cpu().numpy()\n",
    "audio /= audio.max()\n",
    "\n",
    "# Saving the  audio as WAV file\n",
    "output_path = 'output10 (2) (1).wav'\n",
    "write(output_path, 22050, audio)\n",
    "\n",
    "\n"
   ]
  }
 ],
 "metadata": {
  "kernelspec": {
   "display_name": "Python 3 (ipykernel)",
   "language": "python",
   "name": "python3"
  },
  "language_info": {
   "codemirror_mode": {
    "name": "ipython",
    "version": 3
   },
   "file_extension": ".py",
   "mimetype": "text/x-python",
   "name": "python",
   "nbconvert_exporter": "python",
   "pygments_lexer": "ipython3",
   "version": "3.10.5"
  }
 },
 "nbformat": 4,
 "nbformat_minor": 5
}
